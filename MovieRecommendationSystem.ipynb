{
  "nbformat": 4,
  "nbformat_minor": 0,
  "metadata": {
    "colab": {
      "provenance": []
    },
    "kernelspec": {
      "name": "python3",
      "display_name": "Python 3"
    },
    "language_info": {
      "name": "python"
    }
  },
  "cells": [
    {
      "cell_type": "markdown",
      "source": [
        "### Loading Dataset"
      ],
      "metadata": {
        "id": "zj7bLJIRjCUm"
      }
    },
    {
      "cell_type": "code",
      "execution_count": 2,
      "metadata": {
        "colab": {
          "base_uri": "https://localhost:8080/",
          "height": 654
        },
        "id": "pk4dVi-FZSrf",
        "outputId": "542c9398-dfb5-4b0c-a2d5-7e2ae29ed128"
      },
      "outputs": [
        {
          "output_type": "execute_result",
          "data": {
            "text/plain": [
              "  show_id     type                  title         director  \\\n",
              "0      s1    Movie   Dick Johnson Is Dead  Kirsten Johnson   \n",
              "1      s2  TV Show          Blood & Water              NaN   \n",
              "2      s3  TV Show              Ganglands  Julien Leclercq   \n",
              "3      s4  TV Show  Jailbirds New Orleans              NaN   \n",
              "4      s5  TV Show           Kota Factory              NaN   \n",
              "\n",
              "                                                cast        country  \\\n",
              "0                                                NaN  United States   \n",
              "1  Ama Qamata, Khosi Ngema, Gail Mabalane, Thaban...   South Africa   \n",
              "2  Sami Bouajila, Tracy Gotoas, Samuel Jouy, Nabi...            NaN   \n",
              "3                                                NaN            NaN   \n",
              "4  Mayur More, Jitendra Kumar, Ranjan Raj, Alam K...          India   \n",
              "\n",
              "           date_added  release_year rating   duration  ... Unnamed: 16  \\\n",
              "0  September 25, 2021          2020  PG-13     90 min  ...         NaN   \n",
              "1  September 24, 2021          2021  TV-MA  2 Seasons  ...         NaN   \n",
              "2  September 24, 2021          2021  TV-MA   1 Season  ...         NaN   \n",
              "3  September 24, 2021          2021  TV-MA   1 Season  ...         NaN   \n",
              "4  September 24, 2021          2021  TV-MA  2 Seasons  ...         NaN   \n",
              "\n",
              "  Unnamed: 17  Unnamed: 18  Unnamed: 19  Unnamed: 20  Unnamed: 21  \\\n",
              "0         NaN          NaN          NaN          NaN          NaN   \n",
              "1         NaN          NaN          NaN          NaN          NaN   \n",
              "2         NaN          NaN          NaN          NaN          NaN   \n",
              "3         NaN          NaN          NaN          NaN          NaN   \n",
              "4         NaN          NaN          NaN          NaN          NaN   \n",
              "\n",
              "   Unnamed: 22  Unnamed: 23  Unnamed: 24  Unnamed: 25  \n",
              "0          NaN          NaN          NaN          NaN  \n",
              "1          NaN          NaN          NaN          NaN  \n",
              "2          NaN          NaN          NaN          NaN  \n",
              "3          NaN          NaN          NaN          NaN  \n",
              "4          NaN          NaN          NaN          NaN  \n",
              "\n",
              "[5 rows x 26 columns]"
            ],
            "text/html": [
              "\n",
              "  <div id=\"df-43a97c5e-6c99-4318-a175-35e870a58e9a\" class=\"colab-df-container\">\n",
              "    <div>\n",
              "<style scoped>\n",
              "    .dataframe tbody tr th:only-of-type {\n",
              "        vertical-align: middle;\n",
              "    }\n",
              "\n",
              "    .dataframe tbody tr th {\n",
              "        vertical-align: top;\n",
              "    }\n",
              "\n",
              "    .dataframe thead th {\n",
              "        text-align: right;\n",
              "    }\n",
              "</style>\n",
              "<table border=\"1\" class=\"dataframe\">\n",
              "  <thead>\n",
              "    <tr style=\"text-align: right;\">\n",
              "      <th></th>\n",
              "      <th>show_id</th>\n",
              "      <th>type</th>\n",
              "      <th>title</th>\n",
              "      <th>director</th>\n",
              "      <th>cast</th>\n",
              "      <th>country</th>\n",
              "      <th>date_added</th>\n",
              "      <th>release_year</th>\n",
              "      <th>rating</th>\n",
              "      <th>duration</th>\n",
              "      <th>...</th>\n",
              "      <th>Unnamed: 16</th>\n",
              "      <th>Unnamed: 17</th>\n",
              "      <th>Unnamed: 18</th>\n",
              "      <th>Unnamed: 19</th>\n",
              "      <th>Unnamed: 20</th>\n",
              "      <th>Unnamed: 21</th>\n",
              "      <th>Unnamed: 22</th>\n",
              "      <th>Unnamed: 23</th>\n",
              "      <th>Unnamed: 24</th>\n",
              "      <th>Unnamed: 25</th>\n",
              "    </tr>\n",
              "  </thead>\n",
              "  <tbody>\n",
              "    <tr>\n",
              "      <th>0</th>\n",
              "      <td>s1</td>\n",
              "      <td>Movie</td>\n",
              "      <td>Dick Johnson Is Dead</td>\n",
              "      <td>Kirsten Johnson</td>\n",
              "      <td>NaN</td>\n",
              "      <td>United States</td>\n",
              "      <td>September 25, 2021</td>\n",
              "      <td>2020</td>\n",
              "      <td>PG-13</td>\n",
              "      <td>90 min</td>\n",
              "      <td>...</td>\n",
              "      <td>NaN</td>\n",
              "      <td>NaN</td>\n",
              "      <td>NaN</td>\n",
              "      <td>NaN</td>\n",
              "      <td>NaN</td>\n",
              "      <td>NaN</td>\n",
              "      <td>NaN</td>\n",
              "      <td>NaN</td>\n",
              "      <td>NaN</td>\n",
              "      <td>NaN</td>\n",
              "    </tr>\n",
              "    <tr>\n",
              "      <th>1</th>\n",
              "      <td>s2</td>\n",
              "      <td>TV Show</td>\n",
              "      <td>Blood &amp; Water</td>\n",
              "      <td>NaN</td>\n",
              "      <td>Ama Qamata, Khosi Ngema, Gail Mabalane, Thaban...</td>\n",
              "      <td>South Africa</td>\n",
              "      <td>September 24, 2021</td>\n",
              "      <td>2021</td>\n",
              "      <td>TV-MA</td>\n",
              "      <td>2 Seasons</td>\n",
              "      <td>...</td>\n",
              "      <td>NaN</td>\n",
              "      <td>NaN</td>\n",
              "      <td>NaN</td>\n",
              "      <td>NaN</td>\n",
              "      <td>NaN</td>\n",
              "      <td>NaN</td>\n",
              "      <td>NaN</td>\n",
              "      <td>NaN</td>\n",
              "      <td>NaN</td>\n",
              "      <td>NaN</td>\n",
              "    </tr>\n",
              "    <tr>\n",
              "      <th>2</th>\n",
              "      <td>s3</td>\n",
              "      <td>TV Show</td>\n",
              "      <td>Ganglands</td>\n",
              "      <td>Julien Leclercq</td>\n",
              "      <td>Sami Bouajila, Tracy Gotoas, Samuel Jouy, Nabi...</td>\n",
              "      <td>NaN</td>\n",
              "      <td>September 24, 2021</td>\n",
              "      <td>2021</td>\n",
              "      <td>TV-MA</td>\n",
              "      <td>1 Season</td>\n",
              "      <td>...</td>\n",
              "      <td>NaN</td>\n",
              "      <td>NaN</td>\n",
              "      <td>NaN</td>\n",
              "      <td>NaN</td>\n",
              "      <td>NaN</td>\n",
              "      <td>NaN</td>\n",
              "      <td>NaN</td>\n",
              "      <td>NaN</td>\n",
              "      <td>NaN</td>\n",
              "      <td>NaN</td>\n",
              "    </tr>\n",
              "    <tr>\n",
              "      <th>3</th>\n",
              "      <td>s4</td>\n",
              "      <td>TV Show</td>\n",
              "      <td>Jailbirds New Orleans</td>\n",
              "      <td>NaN</td>\n",
              "      <td>NaN</td>\n",
              "      <td>NaN</td>\n",
              "      <td>September 24, 2021</td>\n",
              "      <td>2021</td>\n",
              "      <td>TV-MA</td>\n",
              "      <td>1 Season</td>\n",
              "      <td>...</td>\n",
              "      <td>NaN</td>\n",
              "      <td>NaN</td>\n",
              "      <td>NaN</td>\n",
              "      <td>NaN</td>\n",
              "      <td>NaN</td>\n",
              "      <td>NaN</td>\n",
              "      <td>NaN</td>\n",
              "      <td>NaN</td>\n",
              "      <td>NaN</td>\n",
              "      <td>NaN</td>\n",
              "    </tr>\n",
              "    <tr>\n",
              "      <th>4</th>\n",
              "      <td>s5</td>\n",
              "      <td>TV Show</td>\n",
              "      <td>Kota Factory</td>\n",
              "      <td>NaN</td>\n",
              "      <td>Mayur More, Jitendra Kumar, Ranjan Raj, Alam K...</td>\n",
              "      <td>India</td>\n",
              "      <td>September 24, 2021</td>\n",
              "      <td>2021</td>\n",
              "      <td>TV-MA</td>\n",
              "      <td>2 Seasons</td>\n",
              "      <td>...</td>\n",
              "      <td>NaN</td>\n",
              "      <td>NaN</td>\n",
              "      <td>NaN</td>\n",
              "      <td>NaN</td>\n",
              "      <td>NaN</td>\n",
              "      <td>NaN</td>\n",
              "      <td>NaN</td>\n",
              "      <td>NaN</td>\n",
              "      <td>NaN</td>\n",
              "      <td>NaN</td>\n",
              "    </tr>\n",
              "  </tbody>\n",
              "</table>\n",
              "<p>5 rows × 26 columns</p>\n",
              "</div>\n",
              "    <div class=\"colab-df-buttons\">\n",
              "\n",
              "  <div class=\"colab-df-container\">\n",
              "    <button class=\"colab-df-convert\" onclick=\"convertToInteractive('df-43a97c5e-6c99-4318-a175-35e870a58e9a')\"\n",
              "            title=\"Convert this dataframe to an interactive table.\"\n",
              "            style=\"display:none;\">\n",
              "\n",
              "  <svg xmlns=\"http://www.w3.org/2000/svg\" height=\"24px\" viewBox=\"0 -960 960 960\">\n",
              "    <path d=\"M120-120v-720h720v720H120Zm60-500h600v-160H180v160Zm220 220h160v-160H400v160Zm0 220h160v-160H400v160ZM180-400h160v-160H180v160Zm440 0h160v-160H620v160ZM180-180h160v-160H180v160Zm440 0h160v-160H620v160Z\"/>\n",
              "  </svg>\n",
              "    </button>\n",
              "\n",
              "  <style>\n",
              "    .colab-df-container {\n",
              "      display:flex;\n",
              "      gap: 12px;\n",
              "    }\n",
              "\n",
              "    .colab-df-convert {\n",
              "      background-color: #E8F0FE;\n",
              "      border: none;\n",
              "      border-radius: 50%;\n",
              "      cursor: pointer;\n",
              "      display: none;\n",
              "      fill: #1967D2;\n",
              "      height: 32px;\n",
              "      padding: 0 0 0 0;\n",
              "      width: 32px;\n",
              "    }\n",
              "\n",
              "    .colab-df-convert:hover {\n",
              "      background-color: #E2EBFA;\n",
              "      box-shadow: 0px 1px 2px rgba(60, 64, 67, 0.3), 0px 1px 3px 1px rgba(60, 64, 67, 0.15);\n",
              "      fill: #174EA6;\n",
              "    }\n",
              "\n",
              "    .colab-df-buttons div {\n",
              "      margin-bottom: 4px;\n",
              "    }\n",
              "\n",
              "    [theme=dark] .colab-df-convert {\n",
              "      background-color: #3B4455;\n",
              "      fill: #D2E3FC;\n",
              "    }\n",
              "\n",
              "    [theme=dark] .colab-df-convert:hover {\n",
              "      background-color: #434B5C;\n",
              "      box-shadow: 0px 1px 3px 1px rgba(0, 0, 0, 0.15);\n",
              "      filter: drop-shadow(0px 1px 2px rgba(0, 0, 0, 0.3));\n",
              "      fill: #FFFFFF;\n",
              "    }\n",
              "  </style>\n",
              "\n",
              "    <script>\n",
              "      const buttonEl =\n",
              "        document.querySelector('#df-43a97c5e-6c99-4318-a175-35e870a58e9a button.colab-df-convert');\n",
              "      buttonEl.style.display =\n",
              "        google.colab.kernel.accessAllowed ? 'block' : 'none';\n",
              "\n",
              "      async function convertToInteractive(key) {\n",
              "        const element = document.querySelector('#df-43a97c5e-6c99-4318-a175-35e870a58e9a');\n",
              "        const dataTable =\n",
              "          await google.colab.kernel.invokeFunction('convertToInteractive',\n",
              "                                                    [key], {});\n",
              "        if (!dataTable) return;\n",
              "\n",
              "        const docLinkHtml = 'Like what you see? Visit the ' +\n",
              "          '<a target=\"_blank\" href=https://colab.research.google.com/notebooks/data_table.ipynb>data table notebook</a>'\n",
              "          + ' to learn more about interactive tables.';\n",
              "        element.innerHTML = '';\n",
              "        dataTable['output_type'] = 'display_data';\n",
              "        await google.colab.output.renderOutput(dataTable, element);\n",
              "        const docLink = document.createElement('div');\n",
              "        docLink.innerHTML = docLinkHtml;\n",
              "        element.appendChild(docLink);\n",
              "      }\n",
              "    </script>\n",
              "  </div>\n",
              "\n",
              "\n",
              "<div id=\"df-001422b5-9dfe-4f20-bee3-db769a65ef93\">\n",
              "  <button class=\"colab-df-quickchart\" onclick=\"quickchart('df-001422b5-9dfe-4f20-bee3-db769a65ef93')\"\n",
              "            title=\"Suggest charts\"\n",
              "            style=\"display:none;\">\n",
              "\n",
              "<svg xmlns=\"http://www.w3.org/2000/svg\" height=\"24px\"viewBox=\"0 0 24 24\"\n",
              "     width=\"24px\">\n",
              "    <g>\n",
              "        <path d=\"M19 3H5c-1.1 0-2 .9-2 2v14c0 1.1.9 2 2 2h14c1.1 0 2-.9 2-2V5c0-1.1-.9-2-2-2zM9 17H7v-7h2v7zm4 0h-2V7h2v10zm4 0h-2v-4h2v4z\"/>\n",
              "    </g>\n",
              "</svg>\n",
              "  </button>\n",
              "\n",
              "<style>\n",
              "  .colab-df-quickchart {\n",
              "      --bg-color: #E8F0FE;\n",
              "      --fill-color: #1967D2;\n",
              "      --hover-bg-color: #E2EBFA;\n",
              "      --hover-fill-color: #174EA6;\n",
              "      --disabled-fill-color: #AAA;\n",
              "      --disabled-bg-color: #DDD;\n",
              "  }\n",
              "\n",
              "  [theme=dark] .colab-df-quickchart {\n",
              "      --bg-color: #3B4455;\n",
              "      --fill-color: #D2E3FC;\n",
              "      --hover-bg-color: #434B5C;\n",
              "      --hover-fill-color: #FFFFFF;\n",
              "      --disabled-bg-color: #3B4455;\n",
              "      --disabled-fill-color: #666;\n",
              "  }\n",
              "\n",
              "  .colab-df-quickchart {\n",
              "    background-color: var(--bg-color);\n",
              "    border: none;\n",
              "    border-radius: 50%;\n",
              "    cursor: pointer;\n",
              "    display: none;\n",
              "    fill: var(--fill-color);\n",
              "    height: 32px;\n",
              "    padding: 0;\n",
              "    width: 32px;\n",
              "  }\n",
              "\n",
              "  .colab-df-quickchart:hover {\n",
              "    background-color: var(--hover-bg-color);\n",
              "    box-shadow: 0 1px 2px rgba(60, 64, 67, 0.3), 0 1px 3px 1px rgba(60, 64, 67, 0.15);\n",
              "    fill: var(--button-hover-fill-color);\n",
              "  }\n",
              "\n",
              "  .colab-df-quickchart-complete:disabled,\n",
              "  .colab-df-quickchart-complete:disabled:hover {\n",
              "    background-color: var(--disabled-bg-color);\n",
              "    fill: var(--disabled-fill-color);\n",
              "    box-shadow: none;\n",
              "  }\n",
              "\n",
              "  .colab-df-spinner {\n",
              "    border: 2px solid var(--fill-color);\n",
              "    border-color: transparent;\n",
              "    border-bottom-color: var(--fill-color);\n",
              "    animation:\n",
              "      spin 1s steps(1) infinite;\n",
              "  }\n",
              "\n",
              "  @keyframes spin {\n",
              "    0% {\n",
              "      border-color: transparent;\n",
              "      border-bottom-color: var(--fill-color);\n",
              "      border-left-color: var(--fill-color);\n",
              "    }\n",
              "    20% {\n",
              "      border-color: transparent;\n",
              "      border-left-color: var(--fill-color);\n",
              "      border-top-color: var(--fill-color);\n",
              "    }\n",
              "    30% {\n",
              "      border-color: transparent;\n",
              "      border-left-color: var(--fill-color);\n",
              "      border-top-color: var(--fill-color);\n",
              "      border-right-color: var(--fill-color);\n",
              "    }\n",
              "    40% {\n",
              "      border-color: transparent;\n",
              "      border-right-color: var(--fill-color);\n",
              "      border-top-color: var(--fill-color);\n",
              "    }\n",
              "    60% {\n",
              "      border-color: transparent;\n",
              "      border-right-color: var(--fill-color);\n",
              "    }\n",
              "    80% {\n",
              "      border-color: transparent;\n",
              "      border-right-color: var(--fill-color);\n",
              "      border-bottom-color: var(--fill-color);\n",
              "    }\n",
              "    90% {\n",
              "      border-color: transparent;\n",
              "      border-bottom-color: var(--fill-color);\n",
              "    }\n",
              "  }\n",
              "</style>\n",
              "\n",
              "  <script>\n",
              "    async function quickchart(key) {\n",
              "      const quickchartButtonEl =\n",
              "        document.querySelector('#' + key + ' button');\n",
              "      quickchartButtonEl.disabled = true;  // To prevent multiple clicks.\n",
              "      quickchartButtonEl.classList.add('colab-df-spinner');\n",
              "      try {\n",
              "        const charts = await google.colab.kernel.invokeFunction(\n",
              "            'suggestCharts', [key], {});\n",
              "      } catch (error) {\n",
              "        console.error('Error during call to suggestCharts:', error);\n",
              "      }\n",
              "      quickchartButtonEl.classList.remove('colab-df-spinner');\n",
              "      quickchartButtonEl.classList.add('colab-df-quickchart-complete');\n",
              "    }\n",
              "    (() => {\n",
              "      let quickchartButtonEl =\n",
              "        document.querySelector('#df-001422b5-9dfe-4f20-bee3-db769a65ef93 button');\n",
              "      quickchartButtonEl.style.display =\n",
              "        google.colab.kernel.accessAllowed ? 'block' : 'none';\n",
              "    })();\n",
              "  </script>\n",
              "</div>\n",
              "\n",
              "    </div>\n",
              "  </div>\n"
            ],
            "application/vnd.google.colaboratory.intrinsic+json": {
              "type": "dataframe",
              "variable_name": "df"
            }
          },
          "metadata": {},
          "execution_count": 2
        }
      ],
      "source": [
        "import pandas as pd\n",
        "import numpy as np\n",
        "\n",
        "df = pd.read_csv(\"movies.csv\",encoding=\"latin1\")\n",
        "df.head()"
      ]
    },
    {
      "cell_type": "code",
      "source": [
        "df.columns"
      ],
      "metadata": {
        "colab": {
          "base_uri": "https://localhost:8080/"
        },
        "id": "A_0kZBtKcTVT",
        "outputId": "9c723a17-c7a1-41ac-c70f-efd878a43432"
      },
      "execution_count": 3,
      "outputs": [
        {
          "output_type": "execute_result",
          "data": {
            "text/plain": [
              "Index(['show_id', 'type', 'title', 'director', 'cast', 'country', 'date_added',\n",
              "       'release_year', 'rating', 'duration', 'listed_in', 'description',\n",
              "       'Unnamed: 12', 'Unnamed: 13', 'Unnamed: 14', 'Unnamed: 15',\n",
              "       'Unnamed: 16', 'Unnamed: 17', 'Unnamed: 18', 'Unnamed: 19',\n",
              "       'Unnamed: 20', 'Unnamed: 21', 'Unnamed: 22', 'Unnamed: 23',\n",
              "       'Unnamed: 24', 'Unnamed: 25'],\n",
              "      dtype='object')"
            ]
          },
          "metadata": {},
          "execution_count": 3
        }
      ]
    },
    {
      "cell_type": "code",
      "source": [
        "columns = ['Unnamed: 12','Unnamed: 13','Unnamed: 14','Unnamed: 15','Unnamed: 16','Unnamed: 17','Unnamed: 18','Unnamed: 19','Unnamed: 20','Unnamed: 21','Unnamed: 22','Unnamed: 23','Unnamed: 24','Unnamed: 25']\n",
        "df = df.drop(columns, axis = 1)\n",
        "df.columns"
      ],
      "metadata": {
        "colab": {
          "base_uri": "https://localhost:8080/"
        },
        "id": "bjF8F1Ezca2N",
        "outputId": "99773d60-0f9a-4d50-8875-5667ed07644e"
      },
      "execution_count": 4,
      "outputs": [
        {
          "output_type": "execute_result",
          "data": {
            "text/plain": [
              "Index(['show_id', 'type', 'title', 'director', 'cast', 'country', 'date_added',\n",
              "       'release_year', 'rating', 'duration', 'listed_in', 'description'],\n",
              "      dtype='object')"
            ]
          },
          "metadata": {},
          "execution_count": 4
        }
      ]
    },
    {
      "cell_type": "markdown",
      "source": [
        "### Data cleaning & Basic EDA"
      ],
      "metadata": {
        "id": "JpAzLF0QjF80"
      }
    },
    {
      "cell_type": "code",
      "source": [
        "df = df.dropna().reset_index(drop=True)\n",
        "len(df)"
      ],
      "metadata": {
        "colab": {
          "base_uri": "https://localhost:8080/"
        },
        "id": "NltrIfYhc-F9",
        "outputId": "3006c8b4-a874-4a4a-bf29-cce3902a96ed"
      },
      "execution_count": 5,
      "outputs": [
        {
          "output_type": "execute_result",
          "data": {
            "text/plain": [
              "5334"
            ]
          },
          "metadata": {},
          "execution_count": 5
        }
      ]
    },
    {
      "cell_type": "code",
      "source": [
        "df.info()"
      ],
      "metadata": {
        "colab": {
          "base_uri": "https://localhost:8080/"
        },
        "id": "ClLgb0YVddIU",
        "outputId": "bc2bc3a9-29a9-40ef-98b2-e8d6a551b72d"
      },
      "execution_count": 6,
      "outputs": [
        {
          "output_type": "stream",
          "name": "stdout",
          "text": [
            "<class 'pandas.core.frame.DataFrame'>\n",
            "RangeIndex: 5334 entries, 0 to 5333\n",
            "Data columns (total 12 columns):\n",
            " #   Column        Non-Null Count  Dtype \n",
            "---  ------        --------------  ----- \n",
            " 0   show_id       5334 non-null   object\n",
            " 1   type          5334 non-null   object\n",
            " 2   title         5334 non-null   object\n",
            " 3   director      5334 non-null   object\n",
            " 4   cast          5334 non-null   object\n",
            " 5   country       5334 non-null   object\n",
            " 6   date_added    5334 non-null   object\n",
            " 7   release_year  5334 non-null   int64 \n",
            " 8   rating        5334 non-null   object\n",
            " 9   duration      5334 non-null   object\n",
            " 10  listed_in     5334 non-null   object\n",
            " 11  description   5334 non-null   object\n",
            "dtypes: int64(1), object(11)\n",
            "memory usage: 500.2+ KB\n"
          ]
        }
      ]
    },
    {
      "cell_type": "code",
      "source": [
        "df.duplicated().sum()"
      ],
      "metadata": {
        "colab": {
          "base_uri": "https://localhost:8080/"
        },
        "id": "yNGVx5tni15Y",
        "outputId": "1b399167-2d44-4fc0-f411-9141a124726b"
      },
      "execution_count": 7,
      "outputs": [
        {
          "output_type": "execute_result",
          "data": {
            "text/plain": [
              "0"
            ]
          },
          "metadata": {},
          "execution_count": 7
        }
      ]
    },
    {
      "cell_type": "code",
      "source": [
        "df['type'].unique()"
      ],
      "metadata": {
        "colab": {
          "base_uri": "https://localhost:8080/"
        },
        "id": "NZEcw92odxAY",
        "outputId": "99d56ff1-0bb3-43c8-fd6d-262c4bf0ff8a"
      },
      "execution_count": 8,
      "outputs": [
        {
          "output_type": "execute_result",
          "data": {
            "text/plain": [
              "array(['Movie', 'TV Show'], dtype=object)"
            ]
          },
          "metadata": {},
          "execution_count": 8
        }
      ]
    },
    {
      "cell_type": "code",
      "source": [
        "df['rating'].unique()"
      ],
      "metadata": {
        "colab": {
          "base_uri": "https://localhost:8080/"
        },
        "id": "CYZflv8efS1G",
        "outputId": "bedc3f37-fb86-4199-8946-9399971a367c"
      },
      "execution_count": 9,
      "outputs": [
        {
          "output_type": "execute_result",
          "data": {
            "text/plain": [
              "array(['TV-MA', 'TV-14', 'PG-13', 'PG', 'R', 'TV-PG', 'G', 'TV-Y7',\n",
              "       'TV-G', 'TV-Y', 'NC-17', 'NR', 'TV-Y7-FV', 'UR', 'A'], dtype=object)"
            ]
          },
          "metadata": {},
          "execution_count": 9
        }
      ]
    },
    {
      "cell_type": "code",
      "source": [
        "temp = list(df['listed_in'].unique())\n",
        "temp2 = [i.split(\", \") for i in temp]\n",
        "\n",
        "temp3 = []\n",
        "for i in temp2:\n",
        "  for j in i:\n",
        "    temp3.append(j)\n",
        "\n",
        "category = []\n",
        "for i in temp3:\n",
        "  if i not in category:\n",
        "    category.append(i)\n",
        "print(category)"
      ],
      "metadata": {
        "colab": {
          "base_uri": "https://localhost:8080/"
        },
        "id": "UYh2pzNgfVcY",
        "outputId": "95ef4aa4-09e9-4181-e2df-a45955a659cb"
      },
      "execution_count": 10,
      "outputs": [
        {
          "output_type": "stream",
          "name": "stdout",
          "text": [
            "['Dramas', 'Independent Movies', 'International Movies', 'British TV Shows', 'Reality TV', 'Comedies', 'Romantic Movies', 'Horror Movies', 'Sci-Fi & Fantasy', 'Thrillers', 'Action & Adventure', 'Classic Movies', 'Anime Features', 'Children & Family Movies', 'Documentaries', 'Music & Musicals', 'Cult Movies', 'Faith & Spirituality', 'LGBTQ Movies', 'Crime TV Shows', 'International TV Shows', 'TV Dramas', 'Romantic TV Shows', 'Spanish-Language TV Shows', 'Stand-Up Comedy', 'TV Shows', 'Movies', 'TV Comedies', 'Sports Movies', 'TV Action & Adventure', 'TV Sci-Fi & Fantasy', 'TV Mysteries', 'Docuseries', 'Anime Series', 'TV Horror', 'Teen TV Shows', 'Korean TV Shows', 'Stand-Up Comedy & Talk Shows', \"Kids' TV\", 'Classic & Cult TV', 'TV Thrillers', 'Science & Nature TV', 'Sci-fi', 'Horror', 'Action', 'Drama', 'Romance', 'Thriller']\n"
          ]
        }
      ]
    },
    {
      "cell_type": "code",
      "source": [
        "len(category)"
      ],
      "metadata": {
        "colab": {
          "base_uri": "https://localhost:8080/"
        },
        "id": "u4ZJ1ZPkfnOP",
        "outputId": "37f07219-641c-46b3-c7a1-1cbfb60194f3"
      },
      "execution_count": 11,
      "outputs": [
        {
          "output_type": "execute_result",
          "data": {
            "text/plain": [
              "48"
            ]
          },
          "metadata": {},
          "execution_count": 11
        }
      ]
    },
    {
      "cell_type": "code",
      "source": [
        "# Distribution of types (Movies vs TV Shows)\n",
        "print(\"Distribution of types:\", df['type'].value_counts())\n",
        "\n",
        "# Distribution of ratings\n",
        "print(\"\\nRatings distribution:\", df['rating'].value_counts())"
      ],
      "metadata": {
        "colab": {
          "base_uri": "https://localhost:8080/"
        },
        "id": "aLTNc4hagjlA",
        "outputId": "a7e62149-8f7e-41c4-be7a-b1bf6328ce09"
      },
      "execution_count": 12,
      "outputs": [
        {
          "output_type": "stream",
          "name": "stdout",
          "text": [
            "Distribution of types: type\n",
            "Movie      5186\n",
            "TV Show     148\n",
            "Name: count, dtype: int64\n",
            "\n",
            "Ratings distribution: rating\n",
            "TV-MA       1823\n",
            "TV-14       1214\n",
            "R            778\n",
            "PG-13        470\n",
            "TV-PG        431\n",
            "PG           275\n",
            "TV-G          84\n",
            "TV-Y7         76\n",
            "TV-Y          76\n",
            "NR            58\n",
            "G             40\n",
            "TV-Y7-FV       3\n",
            "UR             3\n",
            "NC-17          2\n",
            "A              1\n",
            "Name: count, dtype: int64\n"
          ]
        }
      ]
    },
    {
      "cell_type": "markdown",
      "source": [
        "### Structuring MultiArm Bandit"
      ],
      "metadata": {
        "id": "SxI9b0ZGjLn7"
      }
    },
    {
      "cell_type": "code",
      "source": [
        "# Parameters\n",
        "epsilon = 0.1  # Exploration probability\n",
        "n_arms = len(df['show_id'].unique())  # Number of arms (shows)\n",
        "arms_rewards = np.zeros(n_arms)  # Reward for each arm\n",
        "arms_counts = np.zeros(n_arms)  # no. of times each arm was pulled\n",
        "\n",
        "# Map 'show_id' to index for arms\n",
        "show_map = {show_id: index for index, show_id in enumerate(df['show_id'].unique())}"
      ],
      "metadata": {
        "id": "XA4rjl6cixVb"
      },
      "execution_count": 25,
      "outputs": []
    },
    {
      "cell_type": "code",
      "source": [
        "import random\n",
        "\n",
        "# Function to recommend a show based on epsilon-greedy strategy\n",
        "def recommend_show(user_id):\n",
        "    if random.uniform(0, 1) < epsilon:\n",
        "        # Explore: Recommend a random show\n",
        "        arm = random.choice(df['show_id'].unique())\n",
        "        show = df[df['show_id'] == arm].iloc[0]\n",
        "        print(f\"User {user_id} (Exploration): Recommending show '{show['title']}'\")\n",
        "    else:\n",
        "        # Exploit: Recommend the show with the highest average reward\n",
        "        arm = np.argmax(arms_rewards / (arms_counts + 1e-10))\n",
        "        show = df[df['show_id'] == list(show_map.keys())[arm]].iloc[0]\n",
        "        print(f\"User {user_id} (Exploitation): Recommending show '{show['title']}'\")\n",
        "\n",
        "    return show, show_map[show['show_id']]"
      ],
      "metadata": {
        "id": "cRbpjiy9lG4o"
      },
      "execution_count": 26,
      "outputs": []
    },
    {
      "cell_type": "code",
      "source": [
        "# Simulate user interaction (random feedback based on genre/rating preferences)\n",
        "def simulate_user_interaction(user_id, show, arm):\n",
        "    # Simulate reward based on genre or rating\n",
        "    reward = np.random.choice([0, 1])  # 1-liked, 0-disliked\n",
        "\n",
        "    # Update rewards and counts for the selected show (arm)\n",
        "    arms_rewards[arm] += reward\n",
        "    arms_counts[arm] += 1\n",
        "\n",
        "    print(f\"User {user_id} watched '{show['title']}' and {'liked' if reward == 1 else 'disliked'} it.\")\n",
        "\n",
        "    return reward"
      ],
      "metadata": {
        "id": "NK0jJ0JllJw8"
      },
      "execution_count": 27,
      "outputs": []
    },
    {
      "cell_type": "markdown",
      "source": [
        "### Simulating Recommendations"
      ],
      "metadata": {
        "id": "qpnR_P-kFxXa"
      }
    },
    {
      "cell_type": "code",
      "source": [
        "# Simulate recommendations for multiple users\n",
        "n_simulations = 100  # Number of users or interactions\n",
        "recommendation_history = []  # To store recommendation results for analysis\n",
        "\n",
        "for user_id in range(1, n_simulations + 1):\n",
        "    show, arm = recommend_show(user_id)\n",
        "    reward = simulate_user_interaction(user_id, show, arm)\n",
        "    recommendation_history.append((user_id, show['title'], reward, arms_counts[arm]))"
      ],
      "metadata": {
        "colab": {
          "base_uri": "https://localhost:8080/"
        },
        "id": "AVCAUPLNDh1u",
        "outputId": "609e0825-183e-42eb-9244-1767716aefe1"
      },
      "execution_count": 28,
      "outputs": [
        {
          "output_type": "stream",
          "name": "stdout",
          "text": [
            "User 1 (Exploration): Recommending show 'A Private War'\n",
            "User 1 watched 'A Private War' and liked it.\n",
            "User 2 (Exploitation): Recommending show 'A Private War'\n",
            "User 2 watched 'A Private War' and disliked it.\n",
            "User 3 (Exploration): Recommending show 'The Daughter'\n",
            "User 3 watched 'The Daughter' and liked it.\n",
            "User 4 (Exploitation): Recommending show 'The Daughter'\n",
            "User 4 watched 'The Daughter' and liked it.\n",
            "User 5 (Exploitation): Recommending show 'The Daughter'\n",
            "User 5 watched 'The Daughter' and liked it.\n",
            "User 6 (Exploitation): Recommending show 'The Daughter'\n",
            "User 6 watched 'The Daughter' and liked it.\n",
            "User 7 (Exploitation): Recommending show 'The Daughter'\n",
            "User 7 watched 'The Daughter' and disliked it.\n",
            "User 8 (Exploitation): Recommending show 'The Daughter'\n",
            "User 8 watched 'The Daughter' and disliked it.\n",
            "User 9 (Exploitation): Recommending show 'The Daughter'\n",
            "User 9 watched 'The Daughter' and liked it.\n",
            "User 10 (Exploitation): Recommending show 'The Daughter'\n",
            "User 10 watched 'The Daughter' and disliked it.\n",
            "User 11 (Exploration): Recommending show 'The Spy Next Door'\n",
            "User 11 watched 'The Spy Next Door' and liked it.\n",
            "User 12 (Exploration): Recommending show 'Heroine'\n",
            "User 12 watched 'Heroine' and liked it.\n",
            "User 13 (Exploitation): Recommending show 'Heroine'\n",
            "User 13 watched 'Heroine' and disliked it.\n",
            "User 14 (Exploitation): Recommending show 'The Spy Next Door'\n",
            "User 14 watched 'The Spy Next Door' and disliked it.\n",
            "User 15 (Exploitation): Recommending show 'The Daughter'\n",
            "User 15 watched 'The Daughter' and disliked it.\n",
            "User 16 (Exploration): Recommending show 'Bean: The Ultimate Disaster Movie'\n",
            "User 16 watched 'Bean: The Ultimate Disaster Movie' and liked it.\n",
            "User 17 (Exploitation): Recommending show 'Bean: The Ultimate Disaster Movie'\n",
            "User 17 watched 'Bean: The Ultimate Disaster Movie' and disliked it.\n",
            "User 18 (Exploitation): Recommending show 'The Daughter'\n",
            "User 18 watched 'The Daughter' and liked it.\n",
            "User 19 (Exploitation): Recommending show 'The Daughter'\n",
            "User 19 watched 'The Daughter' and liked it.\n",
            "User 20 (Exploitation): Recommending show 'The Daughter'\n",
            "User 20 watched 'The Daughter' and disliked it.\n",
            "User 21 (Exploitation): Recommending show 'The Daughter'\n",
            "User 21 watched 'The Daughter' and liked it.\n",
            "User 22 (Exploitation): Recommending show 'The Daughter'\n",
            "User 22 watched 'The Daughter' and liked it.\n",
            "User 23 (Exploitation): Recommending show 'The Daughter'\n",
            "User 23 watched 'The Daughter' and disliked it.\n",
            "User 24 (Exploitation): Recommending show 'The Daughter'\n",
            "User 24 watched 'The Daughter' and disliked it.\n",
            "User 25 (Exploitation): Recommending show 'The Daughter'\n",
            "User 25 watched 'The Daughter' and disliked it.\n",
            "User 26 (Exploration): Recommending show 'The Polka King'\n",
            "User 26 watched 'The Polka King' and disliked it.\n",
            "User 27 (Exploitation): Recommending show 'The Daughter'\n",
            "User 27 watched 'The Daughter' and disliked it.\n",
            "User 28 (Exploitation): Recommending show 'The Daughter'\n",
            "User 28 watched 'The Daughter' and disliked it.\n",
            "User 29 (Exploitation): Recommending show 'A Private War'\n",
            "User 29 watched 'A Private War' and liked it.\n",
            "User 30 (Exploitation): Recommending show 'A Private War'\n",
            "User 30 watched 'A Private War' and liked it.\n",
            "User 31 (Exploitation): Recommending show 'A Private War'\n",
            "User 31 watched 'A Private War' and liked it.\n",
            "User 32 (Exploitation): Recommending show 'A Private War'\n",
            "User 32 watched 'A Private War' and disliked it.\n",
            "User 33 (Exploitation): Recommending show 'A Private War'\n",
            "User 33 watched 'A Private War' and liked it.\n",
            "User 34 (Exploitation): Recommending show 'A Private War'\n",
            "User 34 watched 'A Private War' and liked it.\n",
            "User 35 (Exploitation): Recommending show 'A Private War'\n",
            "User 35 watched 'A Private War' and liked it.\n",
            "User 36 (Exploration): Recommending show 'Hantu Kak Limah'\n",
            "User 36 watched 'Hantu Kak Limah' and liked it.\n",
            "User 37 (Exploitation): Recommending show 'Hantu Kak Limah'\n",
            "User 37 watched 'Hantu Kak Limah' and disliked it.\n",
            "User 38 (Exploitation): Recommending show 'A Private War'\n",
            "User 38 watched 'A Private War' and liked it.\n",
            "User 39 (Exploitation): Recommending show 'A Private War'\n",
            "User 39 watched 'A Private War' and disliked it.\n",
            "User 40 (Exploitation): Recommending show 'A Private War'\n",
            "User 40 watched 'A Private War' and disliked it.\n",
            "User 41 (Exploitation): Recommending show 'A Private War'\n",
            "User 41 watched 'A Private War' and liked it.\n",
            "User 42 (Exploration): Recommending show 'Tony Manero'\n",
            "User 42 watched 'Tony Manero' and liked it.\n",
            "User 43 (Exploitation): Recommending show 'Tony Manero'\n",
            "User 43 watched 'Tony Manero' and liked it.\n",
            "User 44 (Exploitation): Recommending show 'Tony Manero'\n",
            "User 44 watched 'Tony Manero' and disliked it.\n",
            "User 45 (Exploitation): Recommending show 'A Private War'\n",
            "User 45 watched 'A Private War' and disliked it.\n",
            "User 46 (Exploitation): Recommending show 'Tony Manero'\n",
            "User 46 watched 'Tony Manero' and liked it.\n",
            "User 47 (Exploitation): Recommending show 'Tony Manero'\n",
            "User 47 watched 'Tony Manero' and disliked it.\n",
            "User 48 (Exploitation): Recommending show 'A Private War'\n",
            "User 48 watched 'A Private War' and liked it.\n",
            "User 49 (Exploitation): Recommending show 'A Private War'\n",
            "User 49 watched 'A Private War' and disliked it.\n",
            "User 50 (Exploitation): Recommending show 'A Private War'\n",
            "User 50 watched 'A Private War' and disliked it.\n",
            "User 51 (Exploitation): Recommending show 'Tony Manero'\n",
            "User 51 watched 'Tony Manero' and disliked it.\n",
            "User 52 (Exploitation): Recommending show 'A Private War'\n",
            "User 52 watched 'A Private War' and disliked it.\n",
            "User 53 (Exploitation): Recommending show 'A Private War'\n",
            "User 53 watched 'A Private War' and disliked it.\n",
            "User 54 (Exploitation): Recommending show 'A Private War'\n",
            "User 54 watched 'A Private War' and disliked it.\n",
            "User 55 (Exploitation): Recommending show 'A Private War'\n",
            "User 55 watched 'A Private War' and liked it.\n",
            "User 56 (Exploitation): Recommending show 'A Private War'\n",
            "User 56 watched 'A Private War' and disliked it.\n",
            "User 57 (Exploitation): Recommending show 'A Private War'\n",
            "User 57 watched 'A Private War' and disliked it.\n",
            "User 58 (Exploitation): Recommending show 'Tony Manero'\n",
            "User 58 watched 'Tony Manero' and liked it.\n",
            "User 59 (Exploitation): Recommending show 'Tony Manero'\n",
            "User 59 watched 'Tony Manero' and liked it.\n",
            "User 60 (Exploitation): Recommending show 'Tony Manero'\n",
            "User 60 watched 'Tony Manero' and liked it.\n",
            "User 61 (Exploration): Recommending show 'Casino Royale'\n",
            "User 61 watched 'Casino Royale' and disliked it.\n",
            "User 62 (Exploitation): Recommending show 'Tony Manero'\n",
            "User 62 watched 'Tony Manero' and liked it.\n",
            "User 63 (Exploitation): Recommending show 'Tony Manero'\n",
            "User 63 watched 'Tony Manero' and liked it.\n",
            "User 64 (Exploitation): Recommending show 'Tony Manero'\n",
            "User 64 watched 'Tony Manero' and liked it.\n",
            "User 65 (Exploitation): Recommending show 'Tony Manero'\n",
            "User 65 watched 'Tony Manero' and liked it.\n",
            "User 66 (Exploitation): Recommending show 'Tony Manero'\n",
            "User 66 watched 'Tony Manero' and disliked it.\n",
            "User 67 (Exploitation): Recommending show 'Tony Manero'\n",
            "User 67 watched 'Tony Manero' and disliked it.\n",
            "User 68 (Exploitation): Recommending show 'Tony Manero'\n",
            "User 68 watched 'Tony Manero' and liked it.\n",
            "User 69 (Exploitation): Recommending show 'Tony Manero'\n",
            "User 69 watched 'Tony Manero' and disliked it.\n",
            "User 70 (Exploration): Recommending show 'Haraamkhor'\n",
            "User 70 watched 'Haraamkhor' and disliked it.\n",
            "User 71 (Exploitation): Recommending show 'Tony Manero'\n",
            "User 71 watched 'Tony Manero' and disliked it.\n",
            "User 72 (Exploitation): Recommending show 'Tony Manero'\n",
            "User 72 watched 'Tony Manero' and liked it.\n",
            "User 73 (Exploitation): Recommending show 'Tony Manero'\n",
            "User 73 watched 'Tony Manero' and disliked it.\n",
            "User 74 (Exploitation): Recommending show 'Tony Manero'\n",
            "User 74 watched 'Tony Manero' and disliked it.\n",
            "User 75 (Exploitation): Recommending show 'Tony Manero'\n",
            "User 75 watched 'Tony Manero' and liked it.\n",
            "User 76 (Exploitation): Recommending show 'Tony Manero'\n",
            "User 76 watched 'Tony Manero' and liked it.\n",
            "User 77 (Exploitation): Recommending show 'Tony Manero'\n",
            "User 77 watched 'Tony Manero' and liked it.\n",
            "User 78 (Exploitation): Recommending show 'Tony Manero'\n",
            "User 78 watched 'Tony Manero' and disliked it.\n",
            "User 79 (Exploitation): Recommending show 'Tony Manero'\n",
            "User 79 watched 'Tony Manero' and disliked it.\n",
            "User 80 (Exploitation): Recommending show 'Tony Manero'\n",
            "User 80 watched 'Tony Manero' and liked it.\n",
            "User 81 (Exploration): Recommending show 'Uyare'\n",
            "User 81 watched 'Uyare' and liked it.\n",
            "User 82 (Exploitation): Recommending show 'Uyare'\n",
            "User 82 watched 'Uyare' and liked it.\n",
            "User 83 (Exploitation): Recommending show 'Uyare'\n",
            "User 83 watched 'Uyare' and disliked it.\n",
            "User 84 (Exploitation): Recommending show 'Uyare'\n",
            "User 84 watched 'Uyare' and disliked it.\n",
            "User 85 (Exploitation): Recommending show 'Tony Manero'\n",
            "User 85 watched 'Tony Manero' and liked it.\n",
            "User 86 (Exploitation): Recommending show 'Tony Manero'\n",
            "User 86 watched 'Tony Manero' and disliked it.\n",
            "User 87 (Exploitation): Recommending show 'Tony Manero'\n",
            "User 87 watched 'Tony Manero' and disliked it.\n",
            "User 88 (Exploitation): Recommending show 'Tony Manero'\n",
            "User 88 watched 'Tony Manero' and disliked it.\n",
            "User 89 (Exploitation): Recommending show 'Tony Manero'\n",
            "User 89 watched 'Tony Manero' and liked it.\n",
            "User 90 (Exploitation): Recommending show 'Tony Manero'\n",
            "User 90 watched 'Tony Manero' and liked it.\n",
            "User 91 (Exploitation): Recommending show 'Tony Manero'\n",
            "User 91 watched 'Tony Manero' and liked it.\n",
            "User 92 (Exploitation): Recommending show 'Tony Manero'\n",
            "User 92 watched 'Tony Manero' and disliked it.\n",
            "User 93 (Exploitation): Recommending show 'Tony Manero'\n",
            "User 93 watched 'Tony Manero' and liked it.\n",
            "User 94 (Exploitation): Recommending show 'Tony Manero'\n",
            "User 94 watched 'Tony Manero' and disliked it.\n",
            "User 95 (Exploitation): Recommending show 'Tony Manero'\n",
            "User 95 watched 'Tony Manero' and disliked it.\n",
            "User 96 (Exploitation): Recommending show 'Tony Manero'\n",
            "User 96 watched 'Tony Manero' and liked it.\n",
            "User 97 (Exploitation): Recommending show 'Tony Manero'\n",
            "User 97 watched 'Tony Manero' and disliked it.\n",
            "User 98 (Exploration): Recommending show 'Why Me?'\n",
            "User 98 watched 'Why Me?' and liked it.\n",
            "User 99 (Exploitation): Recommending show 'Why Me?'\n",
            "User 99 watched 'Why Me?' and liked it.\n",
            "User 100 (Exploration): Recommending show 'Miss Americana'\n",
            "User 100 watched 'Miss Americana' and disliked it.\n"
          ]
        }
      ]
    },
    {
      "cell_type": "markdown",
      "source": [
        "### Summary of Results"
      ],
      "metadata": {
        "id": "cYhSGgNrFjg1"
      }
    },
    {
      "cell_type": "code",
      "source": [
        "print(\"\\nFinal Results:\")\n",
        "for i, reward in enumerate(arms_rewards):\n",
        "    if arms_counts[i] > 0:\n",
        "        show_title = df[df['show_id'] == list(show_map.keys())[i]].iloc[0]['title']\n",
        "        print(f\"Show '{show_title}': Total reward: {reward}, Pulled {arms_counts[i]} times\")"
      ],
      "metadata": {
        "colab": {
          "base_uri": "https://localhost:8080/"
        },
        "id": "S5JYhma6DpDs",
        "outputId": "965449cf-8727-483b-a862-3bbabe74a351"
      },
      "execution_count": 29,
      "outputs": [
        {
          "output_type": "stream",
          "name": "stdout",
          "text": [
            "\n",
            "Final Results:\n",
            "Show 'A Private War': Total reward: 11.0, Pulled 23.0 times\n",
            "Show 'Tony Manero': Total reward: 22.0, Pulled 40.0 times\n",
            "Show 'Miss Americana': Total reward: 0.0, Pulled 1.0 times\n",
            "Show 'Why Me?': Total reward: 2.0, Pulled 2.0 times\n",
            "Show 'Uyare': Total reward: 2.0, Pulled 4.0 times\n",
            "Show 'Hantu Kak Limah': Total reward: 1.0, Pulled 2.0 times\n",
            "Show 'Heroine': Total reward: 1.0, Pulled 2.0 times\n",
            "Show 'The Polka King': Total reward: 0.0, Pulled 1.0 times\n",
            "Show 'Haraamkhor': Total reward: 0.0, Pulled 1.0 times\n",
            "Show 'Bean: The Ultimate Disaster Movie': Total reward: 1.0, Pulled 2.0 times\n",
            "Show 'Casino Royale': Total reward: 0.0, Pulled 1.0 times\n",
            "Show 'The Daughter': Total reward: 9.0, Pulled 19.0 times\n",
            "Show 'The Spy Next Door': Total reward: 1.0, Pulled 2.0 times\n"
          ]
        }
      ]
    }
  ]
}